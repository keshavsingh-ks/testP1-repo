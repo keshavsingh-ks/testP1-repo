{
  "nbformat": 4,
  "nbformat_minor": 0,
  "metadata": {
    "colab": {
      "provenance": []
    },
    "kernelspec": {
      "name": "python3",
      "display_name": "Python 3"
    },
    "language_info": {
      "name": "python"
    }
  },
  "cells": [
    {
      "cell_type": "code",
      "execution_count": null,
      "metadata": {
        "id": "E9pU5A3Z4Jht"
      },
      "outputs": [],
      "source": []
    },
    {
      "cell_type": "markdown",
      "source": [
        "# Foundations in Python (P1): Group Project,\n",
        "\n",
        "Further to providing you with access to the Foundations in Python, we also present you with a Group Coding Project in the form of an end-to-end data science investigation.,\n",
        "\"You will be notified who the other members of your group are.\n",
        "\"If you experience technical difficulties or have any other questions, please reach out to us: info@actuartech.com.\n",
        "\"## Case study introduction,\n",
        "\"Your group will have the option to choose from one of the four data-sets below for your end-to-end investigation.\n",
        "Examples from a banking data set that could support anomaly Detection** - Ref [Bank data](https://archive.ics.uci.edu/ml/machine-learning-databases/00222/) (A1),\n",
        "Examples of health tracker data from physical activity etc** - Ref [Fitbit data](https://www.kaggle.com/arashnic/fitbit?select=)(A2)\\n\",\n",
        "Examples of potential online Data Breaches - Ref [Cyber data](https://privacyrights.org/data-breaches)(A3),\n",
        "Examples of claims for a non-life motor insurer - Ref [Motor data](https://www.kaggle.com/datasets/floser/french-motor-claims-datasets-fremtpl2freq)(A4),\n",
        "        \n",
        "Please note we take no responsibility for the accuracy or quality of the datasets and you should assume that the data is only provided to allow you to test your coding skills as part of this project and not for any other reasons.,\n",
        "\n",
        "\"For your investigation you will be required to recognise certain components from our data science pipeline. To recap, the pipeline consists of:\n",
        "\n",
        "Problem specification,\n",
        "Data collection and management,\n",
        "Model building and validation,\n",
        "Reporting and visualisation\n",
        "\n"
      ],
      "metadata": {
        "id": "5ZW9Rn584L6i"
      }
    },
    {
      "cell_type": "markdown",
      "source": [
        "# Overview of instructions\n",
        "\n",
        "You will need to specify a suitable problem statement based on the dataset provided. Please refer to [Section 4.5](https://training.actuartech.com/courses/take/foundations-in-python-for-actuaries-p1-21/multimedia/24652408-4-5-statistical-models-introduction-to-linear-regression) for other predictive model examples that follow the data science pipeline and contain a problem statement (i.e. problem specification).\n",
        "Please note that you will be required to present your model solution to a panel. In addition to your final model solution, please also consider the following:\n",
        "* Well-justified reasoning, where interpretation and understanding of results and assumptions are explained in detail\n",
        "* Creating and adhering to your chosen problem statement, showing understanding of the problem and the dataset as well as being able to state a clear hypothesis and identifying if the data is suitable\n",
        "* Taking into account ethical & professional considerations and requirements\n",
        "* Ability to build and validate models and discuss performance metrics on seen and unseen data (includes key drivers, model appropriateness, interpretability, performance, etc.).\n",
        "\n",
        "\"We remind you to save frequently, and highly recommend that you include comments in your Notebook to explain your code and the decisions made.\n",
        "\n",
        "\"We have included sections below to help structure your investiagtion\n",
        "\"Once your group has finished the attempt, please submit one compiled Notebook, along wth some slides summarising the key components of your investigation, for review to info@actuartech.com"
      ],
      "metadata": {
        "id": "72OCZ4Sj4L-s"
      }
    },
    {
      "cell_type": "markdown",
      "source": [
        "# Problem Specification"
      ],
      "metadata": {
        "id": "3SoyQ5qA4MCV"
      }
    },
    {
      "cell_type": "markdown",
      "source": [
        "# Data Collection and Management"
      ],
      "metadata": {
        "id": "MuSqDcJO4MGB"
      }
    },
    {
      "cell_type": "markdown",
      "source": [
        "# Model Building"
      ],
      "metadata": {
        "id": "eteinks04MLj"
      }
    },
    {
      "cell_type": "markdown",
      "source": [
        "# Reporting and Visualisation"
      ],
      "metadata": {
        "id": "hFZsCUrP4MSa"
      }
    }
  ]
}